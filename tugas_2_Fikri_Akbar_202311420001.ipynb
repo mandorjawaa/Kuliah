{
  "nbformat": 4,
  "nbformat_minor": 0,
  "metadata": {
    "colab": {
      "provenance": [],
      "toc_visible": true
    },
    "kernelspec": {
      "name": "python3",
      "display_name": "Python 3"
    },
    "language_info": {
      "name": "python"
    }
  },
  "cells": [
    {
      "cell_type": "code",
      "execution_count": null,
      "metadata": {
        "colab": {
          "base_uri": "https://localhost:8080/"
        },
        "id": "hwfxLA0BvxyE",
        "outputId": "d682bc84-cdcc-490b-df64-ec737faa2172"
      },
      "outputs": [
        {
          "output_type": "stream",
          "name": "stdout",
          "text": [
            "Sistem Persamaan Linear matriks adalah  [[2, 3, -1, 5], [4, 4, -3, 3], [-2, 3, -1, 1]]\n"
          ]
        },
        {
          "output_type": "execute_result",
          "data": {
            "text/plain": [
              "[[2, 3, -1, 5], [0, -2, -1, -7], [0, 0, -5, -15]]"
            ]
          },
          "metadata": {},
          "execution_count": 3
        }
      ],
      "source": [
        "import numpy as np"
      ]
    },
    {
      "cell_type": "code",
      "source": [
        "def bisection(f, a, b, toleransi):\n",
        "\n",
        "    if np.sign(f(a)) == np.sign(f(b)):\n",
        "        raise Exception(\"tidak valid\")\n",
        "    m = (a + b)/2\n",
        "\n",
        "    if np.abs(f(m)) < toleransi:\n",
        "        return m\n",
        "    elif np.sign(f(a)) == np.sign(f(m)):\n",
        "        return bisection(f, m, b, toleransi)\n",
        "    elif np.sign(f(b)) == np.sign(f(m)):\n",
        "        return bisection(f, a, m, toleransi)"
      ],
      "metadata": {
        "colab": {
          "base_uri": "https://localhost:8080/"
        },
        "id": "2EzOIc7Sy82X",
        "outputId": "9b46757a-db7d-4f7d-aea1-b41116668a77"
      },
      "execution_count": null,
      "outputs": [
        {
          "output_type": "stream",
          "name": "stdout",
          "text": [
            "[1.0, 2.0, 3.0]\n"
          ]
        }
      ]
    },
    {
      "cell_type": "code",
      "source": [
        "f = lambda x: 4*x**2-1\n",
        "\n",
        "r1 = bisection(f, -1, 2, 0.01)\n",
        "\n",
        "\n",
        "print(f\"r1 = {r1}\")\n",
        "print(\"f(r1) =\", f(r1))"
      ],
      "metadata": {
        "colab": {
          "base_uri": "https://localhost:8080/"
        },
        "id": "HN9fdgDSx2WB",
        "outputId": "a79cde85-cdae-41b0-b88e-14727199026f"
      },
      "execution_count": null,
      "outputs": [
        {
          "output_type": "execute_result",
          "data": {
            "text/plain": [
              "-2"
            ]
          },
          "metadata": {},
          "execution_count": 4
        }
      ]
    }
  ]
}