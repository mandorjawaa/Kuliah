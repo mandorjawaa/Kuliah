{
 "cells": [
  {
   "cell_type": "code",
   "execution_count": null,
   "metadata": {
    "colab": {
     "base_uri": "https://localhost:8080/"
    },
    "id": "hwfxLA0BvxyE",
    "outputId": "d682bc84-cdcc-490b-df64-ec737faa2172"
   },
   "outputs": [],
   "source": [
    "import numpy as np"
   ]
  },
  {
   "cell_type": "markdown",
   "metadata": {},
   "source": [
    "fungsi perhitungan bisection dengan memanfaatkan pengkondisian if else"
   ]
  },
  {
   "cell_type": "code",
   "execution_count": null,
   "metadata": {
    "colab": {
     "base_uri": "https://localhost:8080/"
    },
    "id": "2EzOIc7Sy82X",
    "outputId": "9b46757a-db7d-4f7d-aea1-b41116668a77"
   },
   "outputs": [],
   "source": [
    "def bisection(f, a, b, toleransi):\n",
    "\n",
    "    if np.sign(f(a)) == np.sign(f(b)):\n",
    "        raise Exception(\"tidak valid\")\n",
    "    m = (a + b)/2\n",
    "\n",
    "    if np.abs(f(m)) < toleransi:\n",
    "        return m\n",
    "    elif np.sign(f(a)) == np.sign(f(m)):\n",
    "        return bisection(f, m, b, toleransi)\n",
    "    elif np.sign(f(b)) == np.sign(f(m)):\n",
    "        return bisection(f, a, m, toleransi)"
   ]
  },
  {
   "cell_type": "markdown",
   "metadata": {},
   "source": [
    "menampilkan output perhitungan bisection dan membuat fungsi yang digunakan untuk kalkulasi dalam fungsi bisection yaitu x^2 - 2"
   ]
  },
  {
   "cell_type": "code",
   "execution_count": null,
   "metadata": {
    "colab": {
     "base_uri": "https://localhost:8080/"
    },
    "id": "HN9fdgDSx2WB",
    "outputId": "a79cde85-cdae-41b0-b88e-14727199026f"
   },
   "outputs": [],
   "source": [
    "f = lambda x: 4*x**2-1\n",
    "\n",
    "r1 = bisection(f, -1, 2, 0.01)\n",
    "\n",
    "\n",
    "print(f\"r1 = {r1}\")\n",
    "print(\"f(r1) =\", f(r1))"
   ]
  }
 ],
 "metadata": {
  "colab": {
   "provenance": [],
   "toc_visible": true
  },
  "kernelspec": {
   "display_name": "Python 3",
   "name": "python3"
  },
  "language_info": {
   "name": "python"
  }
 },
 "nbformat": 4,
 "nbformat_minor": 0
}
