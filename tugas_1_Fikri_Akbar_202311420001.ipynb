{
 "cells": [
  {
   "cell_type": "code",
   "execution_count": null,
   "metadata": {},
   "outputs": [],
   "source": [
    "import numpy as np\n",
    "SPL = ([[2,3,-1,5],[4,4,-3,3],[-2,3,-1,1]]) #ini matriksnya\n",
    "print(\"Sistem Persamaan Linear matriks adalah \",SPL)\n",
    "#SPL[1][0]= SPL[1][0] - (2*SPL[0][0])\n",
    "#SPL[1][1] = SPL[1][1] - (2*SPL[0][1])\n",
    "#SPL[1][2] = SPL[1][2] - (2*SPL[0][2])\n",
    "#SPL[1][3] = SPL[1][3] - (2*SPL[0][3])\n",
    "\n",
    "for i in range(4):\n",
    "    SPL[1][i] = SPL[1][i] - (2*SPL[0][i])\n",
    "\n",
    "for i in range(4):\n",
    "    SPL[2][i] = SPL[2][i] - (-1*SPL[0][i])\n",
    "\n",
    "for i in range(3):\n",
    "    SPL[2][i+1] = SPL[2][i+1] - (-3*SPL[1][i+1])\n",
    "\n",
    "SPL"
   ]
  },
  {
   "cell_type": "markdown",
   "metadata": {},
   "source": [
    "import package numpy dan melakukan deklarasi SPL dengan Array serta membuat model matriks dengan looping"
   ]
  },
  {
   "cell_type": "code",
   "execution_count": null,
   "metadata": {
    "colab": {
     "base_uri": "https://localhost:8080/"
    },
    "id": "2EzOIc7Sy82X",
    "outputId": "9b46757a-db7d-4f7d-aea1-b41116668a77"
   },
   "outputs": [],
   "source": [
    "x = [0,0,0]\n",
    "x[3-1] = SPL[3-1][3]/SPL[3-1][3-1]\n",
    "for i in range(3-2,-1,-1):\n",
    "  x[i] = SPL[i][3]\n",
    "  for j in range(i+1,3):\n",
    "    x[i] = x[i] - SPL[i][j]*x[j]\n",
    "  x[i]=x[i]/SPL[i][i]\n",
    "\n",
    "print(x)"
   ]
  },
  {
   "cell_type": "markdown",
   "metadata": {},
   "source": [
    "menentukan koordinat matriks sebagai output"
   ]
  },
  {
   "cell_type": "code",
   "execution_count": null,
   "metadata": {
    "colab": {
     "base_uri": "https://localhost:8080/"
    },
    "id": "HN9fdgDSx2WB",
    "outputId": "a79cde85-cdae-41b0-b88e-14727199026f"
   },
   "outputs": [],
   "source": [
    "\n",
    "SPL[1][1]"
   ]
  }
 ],
 "metadata": {
  "colab": {
   "provenance": [],
   "toc_visible": true
  },
  "kernelspec": {
   "display_name": "Python 3",
   "name": "python3"
  },
  "language_info": {
   "name": "python"
  }
 },
 "nbformat": 4,
 "nbformat_minor": 0
}
